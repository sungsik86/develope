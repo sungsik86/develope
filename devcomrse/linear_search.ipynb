{
 "cells": [
  {
   "cell_type": "code",
   "execution_count": 2,
   "id": "59008997",
   "metadata": {},
   "outputs": [],
   "source": [
    "def linear_search(L, x):\n",
    "    i = 0\n",
    "    while i < len(L) and L[i] !=x:\n",
    "        i += 1\n",
    "    if i < len(L):\n",
    "        return i\n",
    "    else:\n",
    "        return -1"
   ]
  }
 ],
 "metadata": {
  "kernelspec": {
   "display_name": "Python 3 (ipykernel)",
   "language": "python",
   "name": "python3"
  },
  "language_info": {
   "codemirror_mode": {
    "name": "ipython",
    "version": 3
   },
   "file_extension": ".py",
   "mimetype": "text/x-python",
   "name": "python",
   "nbconvert_exporter": "python",
   "pygments_lexer": "ipython3",
   "version": "3.8.16"
  }
 },
 "nbformat": 4,
 "nbformat_minor": 5
}
