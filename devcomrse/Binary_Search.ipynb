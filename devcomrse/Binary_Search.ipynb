{
 "cells": [
  {
   "cell_type": "code",
   "execution_count": null,
   "id": "5631751a",
   "metadata": {},
   "outputs": [],
   "source": [
    "lower = 0\n",
    "upper = len(L) -1\n",
    "idx = -1\n",
    "while lower <= upper:\n",
    "    middle = (lower + upper) // 2\n",
    "    if L[middle] == target :\n",
    "        ...\n",
    "    elif L[middle] < target :\n",
    "        lower = ...\n",
    "    elif upper = ...\n",
    "    "
   ]
  }
 ],
 "metadata": {
  "kernelspec": {
   "display_name": "Python 3 (ipykernel)",
   "language": "python",
   "name": "python3"
  },
  "language_info": {
   "codemirror_mode": {
    "name": "ipython",
    "version": 3
   },
   "file_extension": ".py",
   "mimetype": "text/x-python",
   "name": "python",
   "nbconvert_exporter": "python",
   "pygments_lexer": "ipython3",
   "version": "3.8.16"
  }
 },
 "nbformat": 4,
 "nbformat_minor": 5
}
